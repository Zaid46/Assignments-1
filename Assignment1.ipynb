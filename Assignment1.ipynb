{
 "cells": [
  {
   "cell_type": "code",
   "execution_count": 2,
   "metadata": {},
   "outputs": [
    {
     "name": "stdout",
     "output_type": "stream",
     "text": [
      "[2002, 2009, 2016, 2023, 2037, 2044, 2051, 2058, 2072, 2079, 2086, 2093, 2107, 2114, 2121, 2128, 2142, 2149, 2156, 2163, 2177, 2184, 2191, 2198, 2212, 2219, 2226, 2233, 2247, 2254, 2261, 2268, 2282, 2289, 2296, 2303, 2317, 2324, 2331, 2338, 2352, 2359, 2366, 2373, 2387, 2394, 2401, 2408, 2422, 2429, 2436, 2443, 2457, 2464, 2471, 2478, 2492, 2499, 2506, 2513, 2527, 2534, 2541, 2548, 2562, 2569, 2576, 2583, 2597, 2604, 2611, 2618, 2632, 2639, 2646, 2653, 2667, 2674, 2681, 2688, 2702, 2709, 2716, 2723, 2737, 2744, 2751, 2758, 2772, 2779, 2786, 2793, 2807, 2814, 2821, 2828, 2842, 2849, 2856, 2863, 2877, 2884, 2891, 2898, 2912, 2919, 2926, 2933, 2947, 2954, 2961, 2968, 2982, 2989, 2996, 3003, 3017, 3024, 3031, 3038, 3052, 3059, 3066, 3073, 3087, 3094, 3101, 3108, 3122, 3129, 3136, 3143, 3157, 3164, 3171, 3178, 3192, 3199]\n"
     ]
    }
   ],
   "source": [
    "# Program to find which numbers are divisible by 7 and not multiple of 5 between 2000 and 3200 (both included)\n",
    "# IF condition will check whether above conditions are satisfied or not. If yes, we can use append function to update the list\n",
    "# A new list was created in order to store and print the output in csv format otherwise just 2 lines of code would have been sufficient\n",
    "\n",
    "new_list=[]\n",
    "\n",
    "for n in range(2000, 3201): \n",
    "    if n%7 == 0 and n%5 !=0:\n",
    "        new_list.append(n)\n",
    "\n",
    "print(new_list)"
   ]
  },
  {
   "cell_type": "code",
   "execution_count": 7,
   "metadata": {},
   "outputs": [
    {
     "name": "stdin",
     "output_type": "stream",
     "text": [
      "Please enter your First name:  Zaid\n",
      "Please enter your Last name:  Shaikh\n"
     ]
    },
    {
     "name": "stdout",
     "output_type": "stream",
     "text": [
      "Full name: Shaikh Zaid\n"
     ]
    }
   ],
   "source": [
    "# Program to take input from User and output in reverse order\n",
    "# We define couple of variables which will take the input from user by using input method\n",
    "\n",
    "First_Name= input('Please enter your First name: ')\n",
    "Last_Name= input('Please enter your Last name: ')\n",
    "\n",
    "print(\"Full name: {} {}\".format(Last_Name, First_Name))"
   ]
  },
  {
   "cell_type": "code",
   "execution_count": 8,
   "metadata": {},
   "outputs": [
    {
     "name": "stdout",
     "output_type": "stream",
     "text": [
      "Volume is 904.896 cm3\n"
     ]
    }
   ],
   "source": [
    "# Program is to find volume of sphere whose dia is 12cm. We can use the f string to print like this example or just simply by print method \n",
    "\n",
    "diameter=12\n",
    "radius= diameter/2\n",
    "\n",
    "Volume= (4/3)*(3.142)*(radius**3)\n",
    "\n",
    "print(f'Volume is {Volume} cm3')"
   ]
  },
  {
   "cell_type": "code",
   "execution_count": 9,
   "metadata": {},
   "outputs": [
    {
     "name": "stdin",
     "output_type": "stream",
     "text": [
      "Please enter few comma-seprated numbers:  123,456, 789, 6.5\n"
     ]
    },
    {
     "name": "stdout",
     "output_type": "stream",
     "text": [
      "['123', '456', ' 789', ' 6.5']\n"
     ]
    }
   ],
   "source": [
    "# Program to take comma seprated number from user and generate a list\n",
    "\n",
    "new_list=input(\"Please enter few comma-seprated numbers: \")\n",
    "print(new_list.split(','))"
   ]
  },
  {
   "cell_type": "code",
   "execution_count": 10,
   "metadata": {},
   "outputs": [
    {
     "name": "stdout",
     "output_type": "stream",
     "text": [
      "*\n",
      "**\n",
      "***\n",
      "****\n",
      "*****\n",
      "****\n",
      "***\n",
      "**\n",
      "*\n"
     ]
    }
   ],
   "source": [
    "# To print the pattern\n",
    "# We will use 2 FOR loops. One for printing upper triangle and one for lower.\n",
    "\n",
    "for n in range(1,6):\n",
    "    print('*'*n)\n",
    "    \n",
    "for i in range(4,0,-1):\n",
    "    print('*'*i)"
   ]
  },
  {
   "cell_type": "code",
   "execution_count": 11,
   "metadata": {},
   "outputs": [
    {
     "name": "stdin",
     "output_type": "stream",
     "text": [
      "enter the word you would like to reverse:  ecneicS ataD\n"
     ]
    },
    {
     "name": "stdout",
     "output_type": "stream",
     "text": [
      "Data Science\n"
     ]
    }
   ],
   "source": [
    "# Program to reverse a word entered by the user\n",
    "\n",
    "word=input(\"enter the word you would like to reverse: \")\n",
    "reverse=word[::-1]\n",
    "print(reverse)"
   ]
  },
  {
   "cell_type": "code",
   "execution_count": 12,
   "metadata": {},
   "outputs": [
    {
     "name": "stdout",
     "output_type": "stream",
     "text": [
      "WE, THE PEOPLE OF INDIA,\n",
      "\t having solemnly resolved to constitute India into a SOVEREIGN, \n",
      "\t\t SOCIALIST, SECULAR, DEMOCRATIC REPUBLIC\n",
      "\t\t\t and to secure to all its citizens\n"
     ]
    }
   ],
   "source": [
    "# Program to reprint the sample input in required format\n",
    "\n",
    "line=\"WE, THE PEOPLE OF INDIA,\\n\\t having solemnly resolved to constitute India into a SOVEREIGN, \\n\\t\\t SOCIALIST, SECULAR, DEMOCRATIC REPUBLIC\\n\\t\\t\\t and to secure to all its citizens\"\n",
    "print(line)"
   ]
  },
  {
   "cell_type": "code",
   "execution_count": null,
   "metadata": {},
   "outputs": [],
   "source": []
  }
 ],
 "metadata": {
  "kernelspec": {
   "display_name": "Python 3",
   "language": "python",
   "name": "python3"
  },
  "language_info": {
   "codemirror_mode": {
    "name": "ipython",
    "version": 3
   },
   "file_extension": ".py",
   "mimetype": "text/x-python",
   "name": "python",
   "nbconvert_exporter": "python",
   "pygments_lexer": "ipython3",
   "version": "3.7.3"
  }
 },
 "nbformat": 4,
 "nbformat_minor": 4
}
